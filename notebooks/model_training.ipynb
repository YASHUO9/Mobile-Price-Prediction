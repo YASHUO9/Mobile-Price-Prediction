{
 "cells": [
  {
   "cell_type": "code",
   "execution_count": 10,
   "metadata": {},
   "outputs": [],
   "source": [
    "import pandas as pd\n",
    "import numpy as np\n"
   ]
  },
  {
   "cell_type": "code",
   "execution_count": 11,
   "metadata": {},
   "outputs": [],
   "source": [
    "data = pd.read_csv(r\"data/data.csv\")"
   ]
  },
  {
   "cell_type": "code",
   "execution_count": 12,
   "metadata": {},
   "outputs": [],
   "source": [
    "X= data.drop(labels='Price', axis=1)\n"
   ]
  },
  {
   "cell_type": "code",
   "execution_count": 13,
   "metadata": {},
   "outputs": [
    {
     "data": {
      "text/html": [
       "<div>\n",
       "<style scoped>\n",
       "    .dataframe tbody tr th:only-of-type {\n",
       "        vertical-align: middle;\n",
       "    }\n",
       "\n",
       "    .dataframe tbody tr th {\n",
       "        vertical-align: top;\n",
       "    }\n",
       "\n",
       "    .dataframe thead th {\n",
       "        text-align: right;\n",
       "    }\n",
       "</style>\n",
       "<table border=\"1\" class=\"dataframe\">\n",
       "  <thead>\n",
       "    <tr style=\"text-align: right;\">\n",
       "      <th></th>\n",
       "      <th>Ratings</th>\n",
       "      <th>RAM</th>\n",
       "      <th>ROM</th>\n",
       "      <th>Mobile_Size</th>\n",
       "      <th>Primary_Cam</th>\n",
       "      <th>Selfi_Cam</th>\n",
       "      <th>Battery_Power</th>\n",
       "    </tr>\n",
       "  </thead>\n",
       "  <tbody>\n",
       "    <tr>\n",
       "      <th>0</th>\n",
       "      <td>4.3</td>\n",
       "      <td>4.0</td>\n",
       "      <td>128.0</td>\n",
       "      <td>6.00</td>\n",
       "      <td>48</td>\n",
       "      <td>13.0</td>\n",
       "      <td>4000</td>\n",
       "    </tr>\n",
       "    <tr>\n",
       "      <th>1</th>\n",
       "      <td>3.4</td>\n",
       "      <td>6.0</td>\n",
       "      <td>64.0</td>\n",
       "      <td>4.50</td>\n",
       "      <td>48</td>\n",
       "      <td>12.0</td>\n",
       "      <td>4000</td>\n",
       "    </tr>\n",
       "    <tr>\n",
       "      <th>2</th>\n",
       "      <td>4.3</td>\n",
       "      <td>4.0</td>\n",
       "      <td>4.0</td>\n",
       "      <td>4.50</td>\n",
       "      <td>64</td>\n",
       "      <td>16.0</td>\n",
       "      <td>4000</td>\n",
       "    </tr>\n",
       "    <tr>\n",
       "      <th>3</th>\n",
       "      <td>4.4</td>\n",
       "      <td>6.0</td>\n",
       "      <td>64.0</td>\n",
       "      <td>6.40</td>\n",
       "      <td>48</td>\n",
       "      <td>15.0</td>\n",
       "      <td>3800</td>\n",
       "    </tr>\n",
       "    <tr>\n",
       "      <th>4</th>\n",
       "      <td>4.5</td>\n",
       "      <td>6.0</td>\n",
       "      <td>128.0</td>\n",
       "      <td>6.18</td>\n",
       "      <td>35</td>\n",
       "      <td>15.0</td>\n",
       "      <td>3800</td>\n",
       "    </tr>\n",
       "    <tr>\n",
       "      <th>...</th>\n",
       "      <td>...</td>\n",
       "      <td>...</td>\n",
       "      <td>...</td>\n",
       "      <td>...</td>\n",
       "      <td>...</td>\n",
       "      <td>...</td>\n",
       "      <td>...</td>\n",
       "    </tr>\n",
       "    <tr>\n",
       "      <th>802</th>\n",
       "      <td>3.8</td>\n",
       "      <td>6.0</td>\n",
       "      <td>32.0</td>\n",
       "      <td>4.54</td>\n",
       "      <td>48</td>\n",
       "      <td>12.0</td>\n",
       "      <td>2800</td>\n",
       "    </tr>\n",
       "    <tr>\n",
       "      <th>803</th>\n",
       "      <td>4.1</td>\n",
       "      <td>8.0</td>\n",
       "      <td>64.0</td>\n",
       "      <td>4.54</td>\n",
       "      <td>64</td>\n",
       "      <td>8.0</td>\n",
       "      <td>2500</td>\n",
       "    </tr>\n",
       "    <tr>\n",
       "      <th>804</th>\n",
       "      <td>4.4</td>\n",
       "      <td>3.0</td>\n",
       "      <td>32.0</td>\n",
       "      <td>6.20</td>\n",
       "      <td>48</td>\n",
       "      <td>1.0</td>\n",
       "      <td>3800</td>\n",
       "    </tr>\n",
       "    <tr>\n",
       "      <th>805</th>\n",
       "      <td>3.7</td>\n",
       "      <td>10.0</td>\n",
       "      <td>32.0</td>\n",
       "      <td>4.50</td>\n",
       "      <td>64</td>\n",
       "      <td>8.0</td>\n",
       "      <td>3500</td>\n",
       "    </tr>\n",
       "    <tr>\n",
       "      <th>806</th>\n",
       "      <td>3.5</td>\n",
       "      <td>6.0</td>\n",
       "      <td>32.0</td>\n",
       "      <td>4.50</td>\n",
       "      <td>64</td>\n",
       "      <td>15.0</td>\n",
       "      <td>1050</td>\n",
       "    </tr>\n",
       "  </tbody>\n",
       "</table>\n",
       "<p>807 rows × 7 columns</p>\n",
       "</div>"
      ],
      "text/plain": [
       "     Ratings   RAM    ROM  Mobile_Size  Primary_Cam  Selfi_Cam  Battery_Power\n",
       "0        4.3   4.0  128.0         6.00           48       13.0           4000\n",
       "1        3.4   6.0   64.0         4.50           48       12.0           4000\n",
       "2        4.3   4.0    4.0         4.50           64       16.0           4000\n",
       "3        4.4   6.0   64.0         6.40           48       15.0           3800\n",
       "4        4.5   6.0  128.0         6.18           35       15.0           3800\n",
       "..       ...   ...    ...          ...          ...        ...            ...\n",
       "802      3.8   6.0   32.0         4.54           48       12.0           2800\n",
       "803      4.1   8.0   64.0         4.54           64        8.0           2500\n",
       "804      4.4   3.0   32.0         6.20           48        1.0           3800\n",
       "805      3.7  10.0   32.0         4.50           64        8.0           3500\n",
       "806      3.5   6.0   32.0         4.50           64       15.0           1050\n",
       "\n",
       "[807 rows x 7 columns]"
      ]
     },
     "execution_count": 13,
     "metadata": {},
     "output_type": "execute_result"
    }
   ],
   "source": [
    "X"
   ]
  },
  {
   "cell_type": "code",
   "execution_count": 14,
   "metadata": {},
   "outputs": [],
   "source": [
    "y = data[['Price']]"
   ]
  },
  {
   "cell_type": "code",
   "execution_count": 15,
   "metadata": {},
   "outputs": [
    {
     "data": {
      "text/html": [
       "<div>\n",
       "<style scoped>\n",
       "    .dataframe tbody tr th:only-of-type {\n",
       "        vertical-align: middle;\n",
       "    }\n",
       "\n",
       "    .dataframe tbody tr th {\n",
       "        vertical-align: top;\n",
       "    }\n",
       "\n",
       "    .dataframe thead th {\n",
       "        text-align: right;\n",
       "    }\n",
       "</style>\n",
       "<table border=\"1\" class=\"dataframe\">\n",
       "  <thead>\n",
       "    <tr style=\"text-align: right;\">\n",
       "      <th></th>\n",
       "      <th>Price</th>\n",
       "    </tr>\n",
       "  </thead>\n",
       "  <tbody>\n",
       "    <tr>\n",
       "      <th>0</th>\n",
       "      <td>24999</td>\n",
       "    </tr>\n",
       "    <tr>\n",
       "      <th>1</th>\n",
       "      <td>15999</td>\n",
       "    </tr>\n",
       "    <tr>\n",
       "      <th>2</th>\n",
       "      <td>15000</td>\n",
       "    </tr>\n",
       "    <tr>\n",
       "      <th>3</th>\n",
       "      <td>18999</td>\n",
       "    </tr>\n",
       "    <tr>\n",
       "      <th>4</th>\n",
       "      <td>18999</td>\n",
       "    </tr>\n",
       "    <tr>\n",
       "      <th>...</th>\n",
       "      <td>...</td>\n",
       "    </tr>\n",
       "    <tr>\n",
       "      <th>802</th>\n",
       "      <td>1299</td>\n",
       "    </tr>\n",
       "    <tr>\n",
       "      <th>803</th>\n",
       "      <td>1390</td>\n",
       "    </tr>\n",
       "    <tr>\n",
       "      <th>804</th>\n",
       "      <td>9790</td>\n",
       "    </tr>\n",
       "    <tr>\n",
       "      <th>805</th>\n",
       "      <td>799</td>\n",
       "    </tr>\n",
       "    <tr>\n",
       "      <th>806</th>\n",
       "      <td>799</td>\n",
       "    </tr>\n",
       "  </tbody>\n",
       "</table>\n",
       "<p>807 rows × 1 columns</p>\n",
       "</div>"
      ],
      "text/plain": [
       "     Price\n",
       "0    24999\n",
       "1    15999\n",
       "2    15000\n",
       "3    18999\n",
       "4    18999\n",
       "..     ...\n",
       "802   1299\n",
       "803   1390\n",
       "804   9790\n",
       "805    799\n",
       "806    799\n",
       "\n",
       "[807 rows x 1 columns]"
      ]
     },
     "execution_count": 15,
     "metadata": {},
     "output_type": "execute_result"
    }
   ],
   "source": [
    "y"
   ]
  },
  {
   "cell_type": "code",
   "execution_count": 16,
   "metadata": {},
   "outputs": [],
   "source": [
    "numerical_cols=X.select_dtypes(exclude='object').columns"
   ]
  },
  {
   "cell_type": "code",
   "execution_count": 17,
   "metadata": {},
   "outputs": [
    {
     "data": {
      "text/plain": [
       "Index(['Ratings', 'RAM', 'ROM', 'Mobile_Size', 'Primary_Cam', 'Selfi_Cam',\n",
       "       'Battery_Power'],\n",
       "      dtype='object')"
      ]
     },
     "execution_count": 17,
     "metadata": {},
     "output_type": "execute_result"
    }
   ],
   "source": [
    "numerical_cols"
   ]
  },
  {
   "cell_type": "code",
   "execution_count": 18,
   "metadata": {},
   "outputs": [],
   "source": [
    "categorical_cols=X.select_dtypes(include='object').columns"
   ]
  },
  {
   "cell_type": "code",
   "execution_count": 19,
   "metadata": {},
   "outputs": [],
   "source": [
    "from sklearn.impute import SimpleImputer ## HAndling Missing Values\n",
    "from sklearn.preprocessing import StandardScaler # HAndling Feature Scaling\n",
    "from sklearn.pipeline import Pipeline\n",
    "from sklearn.compose import ColumnTransformer\n",
    "from sklearn.preprocessing import OrdinalEncoder # Ordinal Encoding"
   ]
  },
  {
   "cell_type": "code",
   "execution_count": 20,
   "metadata": {},
   "outputs": [],
   "source": [
    "cat_pipeline=Pipeline(\n",
    "    \n",
    "    steps=[\n",
    "        ('imputer',SimpleImputer(strategy='most_frequent')),\n",
    "        ('ordinalencoder',OrdinalEncoder(categories=[]))\n",
    "    ]\n",
    "    \n",
    ")"
   ]
  },
  {
   "cell_type": "code",
   "execution_count": 21,
   "metadata": {},
   "outputs": [],
   "source": [
    "num_pipeline=Pipeline(\n",
    "    \n",
    "    \n",
    "    steps=[\n",
    "        \n",
    "        ('imputer',SimpleImputer()),\n",
    "        ('scaler', StandardScaler())\n",
    "    ]\n",
    "    \n",
    "    \n",
    ")"
   ]
  },
  {
   "cell_type": "code",
   "execution_count": 22,
   "metadata": {},
   "outputs": [],
   "source": [
    "preprocessor=ColumnTransformer(\n",
    "    [\n",
    "        \n",
    "    ('num_pipeline',num_pipeline,numerical_cols),\n",
    "        \n",
    "    ]\n",
    ")"
   ]
  },
  {
   "cell_type": "code",
   "execution_count": 23,
   "metadata": {},
   "outputs": [],
   "source": [
    "\n",
    "## Train test split\n",
    "\n",
    "from sklearn.model_selection import train_test_split\n",
    "\n",
    "X_train,X_test,y_train,y_test=train_test_split(X,y,test_size=0.30,random_state=30)\n"
   ]
  },
  {
   "cell_type": "code",
   "execution_count": 24,
   "metadata": {},
   "outputs": [
    {
     "data": {
      "text/plain": [
       "array([[ 0.78715918,  0.03477308,  1.19783449, ...,  0.01345229,\n",
       "         0.69536238,  0.53010806],\n",
       "       [-1.64326662,  0.03477308,  0.00502292, ...,  0.01345229,\n",
       "        -0.19952497, -0.29843827],\n",
       "       [-0.02298275,  0.03477308, -0.59138286, ...,  0.01345229,\n",
       "        -0.19952497, -0.29843827],\n",
       "       ...,\n",
       "       [-0.56307737,  0.03477308, -0.59138286, ...,  0.01345229,\n",
       "         0.91908421, -0.29843827],\n",
       "       [ 0.24706456, -0.97097126,  0.00502292, ...,  1.51213683,\n",
       "        -0.19952497,  0.21940318],\n",
       "       [-1.103172  ,  2.04626174, -0.59138286, ...,  1.51213683,\n",
       "        -0.19952497,  0.21940318]])"
      ]
     },
     "execution_count": 24,
     "metadata": {},
     "output_type": "execute_result"
    }
   ],
   "source": [
    "preprocessor.fit_transform(X_train)"
   ]
  },
  {
   "cell_type": "code",
   "execution_count": 25,
   "metadata": {},
   "outputs": [
    {
     "data": {
      "text/plain": [
       "array(['num_pipeline__Ratings', 'num_pipeline__RAM', 'num_pipeline__ROM',\n",
       "       'num_pipeline__Mobile_Size', 'num_pipeline__Primary_Cam',\n",
       "       'num_pipeline__Selfi_Cam', 'num_pipeline__Battery_Power'],\n",
       "      dtype=object)"
      ]
     },
     "execution_count": 25,
     "metadata": {},
     "output_type": "execute_result"
    }
   ],
   "source": [
    "preprocessor.get_feature_names_out()"
   ]
  },
  {
   "cell_type": "code",
   "execution_count": 26,
   "metadata": {},
   "outputs": [],
   "source": [
    "X_train=pd.DataFrame(preprocessor.fit_transform(X_train),columns=preprocessor.get_feature_names_out())\n",
    "X_test=pd.DataFrame(preprocessor.transform(X_test),columns=preprocessor.get_feature_names_out())"
   ]
  },
  {
   "cell_type": "code",
   "execution_count": 27,
   "metadata": {},
   "outputs": [
    {
     "data": {
      "text/html": [
       "<div>\n",
       "<style scoped>\n",
       "    .dataframe tbody tr th:only-of-type {\n",
       "        vertical-align: middle;\n",
       "    }\n",
       "\n",
       "    .dataframe tbody tr th {\n",
       "        vertical-align: top;\n",
       "    }\n",
       "\n",
       "    .dataframe thead th {\n",
       "        text-align: right;\n",
       "    }\n",
       "</style>\n",
       "<table border=\"1\" class=\"dataframe\">\n",
       "  <thead>\n",
       "    <tr style=\"text-align: right;\">\n",
       "      <th></th>\n",
       "      <th>num_pipeline__Ratings</th>\n",
       "      <th>num_pipeline__RAM</th>\n",
       "      <th>num_pipeline__ROM</th>\n",
       "      <th>num_pipeline__Mobile_Size</th>\n",
       "      <th>num_pipeline__Primary_Cam</th>\n",
       "      <th>num_pipeline__Selfi_Cam</th>\n",
       "      <th>num_pipeline__Battery_Power</th>\n",
       "    </tr>\n",
       "  </thead>\n",
       "  <tbody>\n",
       "    <tr>\n",
       "      <th>0</th>\n",
       "      <td>0.787159</td>\n",
       "      <td>0.034773</td>\n",
       "      <td>1.197834</td>\n",
       "      <td>0.212575</td>\n",
       "      <td>0.013452</td>\n",
       "      <td>0.695362</td>\n",
       "      <td>0.530108</td>\n",
       "    </tr>\n",
       "    <tr>\n",
       "      <th>1</th>\n",
       "      <td>-1.643267</td>\n",
       "      <td>0.034773</td>\n",
       "      <td>0.005023</td>\n",
       "      <td>-0.290932</td>\n",
       "      <td>0.013452</td>\n",
       "      <td>-0.199525</td>\n",
       "      <td>-0.298438</td>\n",
       "    </tr>\n",
       "    <tr>\n",
       "      <th>2</th>\n",
       "      <td>-0.022983</td>\n",
       "      <td>0.034773</td>\n",
       "      <td>-0.591383</td>\n",
       "      <td>-0.280276</td>\n",
       "      <td>0.013452</td>\n",
       "      <td>-0.199525</td>\n",
       "      <td>-0.298438</td>\n",
       "    </tr>\n",
       "    <tr>\n",
       "      <th>3</th>\n",
       "      <td>-0.563077</td>\n",
       "      <td>-0.468099</td>\n",
       "      <td>-0.591383</td>\n",
       "      <td>-0.280276</td>\n",
       "      <td>0.013452</td>\n",
       "      <td>-0.199525</td>\n",
       "      <td>-0.298438</td>\n",
       "    </tr>\n",
       "    <tr>\n",
       "      <th>4</th>\n",
       "      <td>0.787159</td>\n",
       "      <td>-1.473843</td>\n",
       "      <td>-0.591383</td>\n",
       "      <td>0.201919</td>\n",
       "      <td>-0.923226</td>\n",
       "      <td>-0.199525</td>\n",
       "      <td>1.772928</td>\n",
       "    </tr>\n",
       "    <tr>\n",
       "      <th>...</th>\n",
       "      <td>...</td>\n",
       "      <td>...</td>\n",
       "      <td>...</td>\n",
       "      <td>...</td>\n",
       "      <td>...</td>\n",
       "      <td>...</td>\n",
       "      <td>...</td>\n",
       "    </tr>\n",
       "    <tr>\n",
       "      <th>559</th>\n",
       "      <td>0.517112</td>\n",
       "      <td>-2.479588</td>\n",
       "      <td>-0.889586</td>\n",
       "      <td>-0.290932</td>\n",
       "      <td>0.013452</td>\n",
       "      <td>-0.199525</td>\n",
       "      <td>-0.298438</td>\n",
       "    </tr>\n",
       "    <tr>\n",
       "      <th>560</th>\n",
       "      <td>0.247065</td>\n",
       "      <td>1.040517</td>\n",
       "      <td>0.005023</td>\n",
       "      <td>-0.219002</td>\n",
       "      <td>0.013452</td>\n",
       "      <td>-0.199525</td>\n",
       "      <td>-0.298438</td>\n",
       "    </tr>\n",
       "    <tr>\n",
       "      <th>561</th>\n",
       "      <td>-0.563077</td>\n",
       "      <td>0.034773</td>\n",
       "      <td>-0.591383</td>\n",
       "      <td>-0.280276</td>\n",
       "      <td>0.013452</td>\n",
       "      <td>0.919084</td>\n",
       "      <td>-0.298438</td>\n",
       "    </tr>\n",
       "    <tr>\n",
       "      <th>562</th>\n",
       "      <td>0.247065</td>\n",
       "      <td>-0.970971</td>\n",
       "      <td>0.005023</td>\n",
       "      <td>-0.290932</td>\n",
       "      <td>1.512137</td>\n",
       "      <td>-0.199525</td>\n",
       "      <td>0.219403</td>\n",
       "    </tr>\n",
       "    <tr>\n",
       "      <th>563</th>\n",
       "      <td>-1.103172</td>\n",
       "      <td>2.046262</td>\n",
       "      <td>-0.591383</td>\n",
       "      <td>-0.290932</td>\n",
       "      <td>1.512137</td>\n",
       "      <td>-0.199525</td>\n",
       "      <td>0.219403</td>\n",
       "    </tr>\n",
       "  </tbody>\n",
       "</table>\n",
       "<p>564 rows × 7 columns</p>\n",
       "</div>"
      ],
      "text/plain": [
       "     num_pipeline__Ratings  num_pipeline__RAM  num_pipeline__ROM  \\\n",
       "0                 0.787159           0.034773           1.197834   \n",
       "1                -1.643267           0.034773           0.005023   \n",
       "2                -0.022983           0.034773          -0.591383   \n",
       "3                -0.563077          -0.468099          -0.591383   \n",
       "4                 0.787159          -1.473843          -0.591383   \n",
       "..                     ...                ...                ...   \n",
       "559               0.517112          -2.479588          -0.889586   \n",
       "560               0.247065           1.040517           0.005023   \n",
       "561              -0.563077           0.034773          -0.591383   \n",
       "562               0.247065          -0.970971           0.005023   \n",
       "563              -1.103172           2.046262          -0.591383   \n",
       "\n",
       "     num_pipeline__Mobile_Size  num_pipeline__Primary_Cam  \\\n",
       "0                     0.212575                   0.013452   \n",
       "1                    -0.290932                   0.013452   \n",
       "2                    -0.280276                   0.013452   \n",
       "3                    -0.280276                   0.013452   \n",
       "4                     0.201919                  -0.923226   \n",
       "..                         ...                        ...   \n",
       "559                  -0.290932                   0.013452   \n",
       "560                  -0.219002                   0.013452   \n",
       "561                  -0.280276                   0.013452   \n",
       "562                  -0.290932                   1.512137   \n",
       "563                  -0.290932                   1.512137   \n",
       "\n",
       "     num_pipeline__Selfi_Cam  num_pipeline__Battery_Power  \n",
       "0                   0.695362                     0.530108  \n",
       "1                  -0.199525                    -0.298438  \n",
       "2                  -0.199525                    -0.298438  \n",
       "3                  -0.199525                    -0.298438  \n",
       "4                  -0.199525                     1.772928  \n",
       "..                       ...                          ...  \n",
       "559                -0.199525                    -0.298438  \n",
       "560                -0.199525                    -0.298438  \n",
       "561                 0.919084                    -0.298438  \n",
       "562                -0.199525                     0.219403  \n",
       "563                -0.199525                     0.219403  \n",
       "\n",
       "[564 rows x 7 columns]"
      ]
     },
     "execution_count": 27,
     "metadata": {},
     "output_type": "execute_result"
    }
   ],
   "source": [
    "X_train"
   ]
  },
  {
   "cell_type": "code",
   "execution_count": 28,
   "metadata": {},
   "outputs": [
    {
     "data": {
      "text/html": [
       "<div>\n",
       "<style scoped>\n",
       "    .dataframe tbody tr th:only-of-type {\n",
       "        vertical-align: middle;\n",
       "    }\n",
       "\n",
       "    .dataframe tbody tr th {\n",
       "        vertical-align: top;\n",
       "    }\n",
       "\n",
       "    .dataframe thead th {\n",
       "        text-align: right;\n",
       "    }\n",
       "</style>\n",
       "<table border=\"1\" class=\"dataframe\">\n",
       "  <thead>\n",
       "    <tr style=\"text-align: right;\">\n",
       "      <th></th>\n",
       "      <th>num_pipeline__Ratings</th>\n",
       "      <th>num_pipeline__RAM</th>\n",
       "      <th>num_pipeline__ROM</th>\n",
       "      <th>num_pipeline__Mobile_Size</th>\n",
       "      <th>num_pipeline__Primary_Cam</th>\n",
       "      <th>num_pipeline__Selfi_Cam</th>\n",
       "      <th>num_pipeline__Battery_Power</th>\n",
       "    </tr>\n",
       "  </thead>\n",
       "  <tbody>\n",
       "    <tr>\n",
       "      <th>0</th>\n",
       "      <td>1.327254</td>\n",
       "      <td>-0.970971</td>\n",
       "      <td>0.005023</td>\n",
       "      <td>0.268521</td>\n",
       "      <td>-0.923226</td>\n",
       "      <td>-1.541856</td>\n",
       "      <td>1.772928</td>\n",
       "    </tr>\n",
       "    <tr>\n",
       "      <th>1</th>\n",
       "      <td>-0.022983</td>\n",
       "      <td>0.034773</td>\n",
       "      <td>-0.591383</td>\n",
       "      <td>-0.504057</td>\n",
       "      <td>1.512137</td>\n",
       "      <td>-0.199525</td>\n",
       "      <td>1.772928</td>\n",
       "    </tr>\n",
       "    <tr>\n",
       "      <th>2</th>\n",
       "      <td>0.787159</td>\n",
       "      <td>-1.976716</td>\n",
       "      <td>-0.591383</td>\n",
       "      <td>0.167286</td>\n",
       "      <td>-0.923226</td>\n",
       "      <td>-0.870690</td>\n",
       "      <td>0.768315</td>\n",
       "    </tr>\n",
       "    <tr>\n",
       "      <th>3</th>\n",
       "      <td>-0.022983</td>\n",
       "      <td>-1.473843</td>\n",
       "      <td>-0.591383</td>\n",
       "      <td>0.028755</td>\n",
       "      <td>-0.923226</td>\n",
       "      <td>-1.765578</td>\n",
       "      <td>-0.402007</td>\n",
       "    </tr>\n",
       "    <tr>\n",
       "      <th>4</th>\n",
       "      <td>1.327254</td>\n",
       "      <td>-0.970971</td>\n",
       "      <td>0.005023</td>\n",
       "      <td>0.161958</td>\n",
       "      <td>-1.204229</td>\n",
       "      <td>-0.199525</td>\n",
       "      <td>0.219403</td>\n",
       "    </tr>\n",
       "    <tr>\n",
       "      <th>...</th>\n",
       "      <td>...</td>\n",
       "      <td>...</td>\n",
       "      <td>...</td>\n",
       "      <td>...</td>\n",
       "      <td>...</td>\n",
       "      <td>...</td>\n",
       "      <td>...</td>\n",
       "    </tr>\n",
       "    <tr>\n",
       "      <th>238</th>\n",
       "      <td>-0.833125</td>\n",
       "      <td>0.034773</td>\n",
       "      <td>0.005023</td>\n",
       "      <td>-0.290932</td>\n",
       "      <td>1.512137</td>\n",
       "      <td>-0.199525</td>\n",
       "      <td>-0.298438</td>\n",
       "    </tr>\n",
       "    <tr>\n",
       "      <th>239</th>\n",
       "      <td>-1.913314</td>\n",
       "      <td>-2.479588</td>\n",
       "      <td>-1.113238</td>\n",
       "      <td>-0.237651</td>\n",
       "      <td>-0.923226</td>\n",
       "      <td>-1.541856</td>\n",
       "      <td>-0.505575</td>\n",
       "    </tr>\n",
       "    <tr>\n",
       "      <th>240</th>\n",
       "      <td>-0.022983</td>\n",
       "      <td>-2.479588</td>\n",
       "      <td>-0.889586</td>\n",
       "      <td>-0.157729</td>\n",
       "      <td>-4.014262</td>\n",
       "      <td>-1.541856</td>\n",
       "      <td>-0.816280</td>\n",
       "    </tr>\n",
       "    <tr>\n",
       "      <th>241</th>\n",
       "      <td>1.057206</td>\n",
       "      <td>0.034773</td>\n",
       "      <td>1.197834</td>\n",
       "      <td>0.055396</td>\n",
       "      <td>0.013452</td>\n",
       "      <td>0.695362</td>\n",
       "      <td>-0.194870</td>\n",
       "    </tr>\n",
       "    <tr>\n",
       "      <th>242</th>\n",
       "      <td>0.517112</td>\n",
       "      <td>-0.970971</td>\n",
       "      <td>1.197834</td>\n",
       "      <td>0.108677</td>\n",
       "      <td>0.013452</td>\n",
       "      <td>0.919084</td>\n",
       "      <td>0.737245</td>\n",
       "    </tr>\n",
       "  </tbody>\n",
       "</table>\n",
       "<p>243 rows × 7 columns</p>\n",
       "</div>"
      ],
      "text/plain": [
       "     num_pipeline__Ratings  num_pipeline__RAM  num_pipeline__ROM  \\\n",
       "0                 1.327254          -0.970971           0.005023   \n",
       "1                -0.022983           0.034773          -0.591383   \n",
       "2                 0.787159          -1.976716          -0.591383   \n",
       "3                -0.022983          -1.473843          -0.591383   \n",
       "4                 1.327254          -0.970971           0.005023   \n",
       "..                     ...                ...                ...   \n",
       "238              -0.833125           0.034773           0.005023   \n",
       "239              -1.913314          -2.479588          -1.113238   \n",
       "240              -0.022983          -2.479588          -0.889586   \n",
       "241               1.057206           0.034773           1.197834   \n",
       "242               0.517112          -0.970971           1.197834   \n",
       "\n",
       "     num_pipeline__Mobile_Size  num_pipeline__Primary_Cam  \\\n",
       "0                     0.268521                  -0.923226   \n",
       "1                    -0.504057                   1.512137   \n",
       "2                     0.167286                  -0.923226   \n",
       "3                     0.028755                  -0.923226   \n",
       "4                     0.161958                  -1.204229   \n",
       "..                         ...                        ...   \n",
       "238                  -0.290932                   1.512137   \n",
       "239                  -0.237651                  -0.923226   \n",
       "240                  -0.157729                  -4.014262   \n",
       "241                   0.055396                   0.013452   \n",
       "242                   0.108677                   0.013452   \n",
       "\n",
       "     num_pipeline__Selfi_Cam  num_pipeline__Battery_Power  \n",
       "0                  -1.541856                     1.772928  \n",
       "1                  -0.199525                     1.772928  \n",
       "2                  -0.870690                     0.768315  \n",
       "3                  -1.765578                    -0.402007  \n",
       "4                  -0.199525                     0.219403  \n",
       "..                       ...                          ...  \n",
       "238                -0.199525                    -0.298438  \n",
       "239                -1.541856                    -0.505575  \n",
       "240                -1.541856                    -0.816280  \n",
       "241                 0.695362                    -0.194870  \n",
       "242                 0.919084                     0.737245  \n",
       "\n",
       "[243 rows x 7 columns]"
      ]
     },
     "execution_count": 28,
     "metadata": {},
     "output_type": "execute_result"
    }
   ],
   "source": [
    "X_test"
   ]
  },
  {
   "cell_type": "code",
   "execution_count": 29,
   "metadata": {},
   "outputs": [],
   "source": [
    "## Model Training\n",
    "\n",
    "from sklearn.linear_model import LinearRegression,Lasso,Ridge,ElasticNet\n",
    "from sklearn.ensemble import RandomForestRegressor\n",
    "from sklearn.svm import SVR\n",
    "from sklearn.tree import DecisionTreeRegressor\n",
    "from sklearn.metrics import r2_score,mean_absolute_error,mean_squared_error"
   ]
  },
  {
   "cell_type": "code",
   "execution_count": 30,
   "metadata": {},
   "outputs": [],
   "source": [
    "import numpy as np\n",
    "def evaluate_model(true, predicted):\n",
    "    mae = mean_absolute_error(true, predicted)\n",
    "    mse = mean_squared_error(true, predicted)\n",
    "    rmse = np.sqrt(mean_squared_error(true, predicted))\n",
    "    r2_square = r2_score(true, predicted)\n",
    "    return mae, rmse, r2_square"
   ]
  },
  {
   "cell_type": "code",
   "execution_count": 31,
   "metadata": {},
   "outputs": [],
   "source": [
    "## Train multiple models\n",
    "\n",
    "models={\n",
    "    'LinearRegression':LinearRegression(),\n",
    "    'Lasso':Lasso(),\n",
    "    'Ridge':Ridge(),\n",
    "    'Elasticnet':ElasticNet(),\n",
    "    'RandomForestRegressor':RandomForestRegressor(),\n",
    "    'SVR':SVR(),\n",
    "    'DecisionTreeRegressor':DecisionTreeRegressor()\n",
    "}"
   ]
  },
  {
   "cell_type": "code",
   "execution_count": 32,
   "metadata": {},
   "outputs": [],
   "source": [
    "trained_model_list=[]\n",
    "model_list=[]\n",
    "r2_list=[]"
   ]
  },
  {
   "cell_type": "code",
   "execution_count": 33,
   "metadata": {},
   "outputs": [
    {
     "data": {
      "text/plain": [
       "['LinearRegression',\n",
       " 'Lasso',\n",
       " 'Ridge',\n",
       " 'Elasticnet',\n",
       " 'RandomForestRegressor',\n",
       " 'SVR',\n",
       " 'DecisionTreeRegressor']"
      ]
     },
     "execution_count": 33,
     "metadata": {},
     "output_type": "execute_result"
    }
   ],
   "source": [
    "list(models)"
   ]
  },
  {
   "cell_type": "code",
   "execution_count": 34,
   "metadata": {},
   "outputs": [
    {
     "name": "stdout",
     "output_type": "stream",
     "text": [
      "LinearRegression()\n",
      "Lasso()\n",
      "Ridge()\n",
      "ElasticNet()\n",
      "RandomForestRegressor()\n",
      "SVR()\n",
      "DecisionTreeRegressor()\n"
     ]
    }
   ],
   "source": [
    "for i in range(len(list(models))):\n",
    "    model=list(models.values())[i]\n",
    "    print(model)"
   ]
  },
  {
   "cell_type": "code",
   "execution_count": 35,
   "metadata": {},
   "outputs": [
    {
     "data": {
      "text/plain": [
       "dict_keys(['LinearRegression', 'Lasso', 'Ridge', 'Elasticnet', 'RandomForestRegressor', 'SVR', 'DecisionTreeRegressor'])"
      ]
     },
     "execution_count": 35,
     "metadata": {},
     "output_type": "execute_result"
    }
   ],
   "source": [
    "models.keys()"
   ]
  },
  {
   "cell_type": "code",
   "execution_count": 36,
   "metadata": {},
   "outputs": [
    {
     "data": {
      "text/plain": [
       "dict_values([LinearRegression(), Lasso(), Ridge(), ElasticNet(), RandomForestRegressor(), SVR(), DecisionTreeRegressor()])"
      ]
     },
     "execution_count": 36,
     "metadata": {},
     "output_type": "execute_result"
    }
   ],
   "source": [
    "models.values()"
   ]
  },
  {
   "cell_type": "code",
   "execution_count": 37,
   "metadata": {},
   "outputs": [
    {
     "name": "stdout",
     "output_type": "stream",
     "text": [
      "LinearRegression\n",
      "Model Training Performance\n",
      "RMSE: 18404.82594292891\n",
      "MAE: 11497.806011918894\n",
      "R2 score 39.141637820017706\n",
      "===================================\n",
      "\n",
      "\n",
      "Lasso\n",
      "Model Training Performance\n",
      "RMSE: 18404.56886786839\n",
      "MAE: 11497.191098085521\n",
      "R2 score 39.14333792388447\n",
      "===================================\n",
      "\n",
      "\n",
      "Ridge\n",
      "Model Training Performance\n",
      "RMSE: 18400.88300746844\n",
      "MAE: 11489.27881416327\n",
      "R2 score 39.167710860992585\n",
      "===================================\n",
      "\n",
      "\n",
      "Elasticnet\n",
      "Model Training Performance\n",
      "RMSE: 18299.5141460037\n",
      "MAE: 10652.74342661164\n",
      "R2 score 39.836104278033915\n",
      "===================================\n",
      "\n",
      "\n"
     ]
    },
    {
     "name": "stderr",
     "output_type": "stream",
     "text": [
      "d:\\work\\Mobile-Price-Prediction\\env\\lib\\site-packages\\sklearn\\base.py:1152: DataConversionWarning: A column-vector y was passed when a 1d array was expected. Please change the shape of y to (n_samples,), for example using ravel().\n",
      "  return fit_method(estimator, *args, **kwargs)\n"
     ]
    },
    {
     "name": "stdout",
     "output_type": "stream",
     "text": [
      "RandomForestRegressor\n",
      "Model Training Performance\n",
      "RMSE: 7351.6090955230275\n",
      "MAE: 2895.5582900725253\n",
      "R2 score 90.28994602471306\n",
      "===================================\n",
      "\n",
      "\n",
      "SVR\n",
      "Model Training Performance\n",
      "RMSE: 26325.59733655071\n",
      "MAE: 12513.957558231907\n",
      "R2 score -24.512599375639677\n",
      "===================================\n",
      "\n",
      "\n",
      "DecisionTreeRegressor\n",
      "Model Training Performance\n",
      "RMSE: 10605.617163457722\n",
      "MAE: 2491.2932719315436\n",
      "R2 score 79.7917491880271\n",
      "===================================\n",
      "\n",
      "\n"
     ]
    },
    {
     "name": "stderr",
     "output_type": "stream",
     "text": [
      "d:\\work\\Mobile-Price-Prediction\\env\\lib\\site-packages\\sklearn\\utils\\validation.py:1183: DataConversionWarning: A column-vector y was passed when a 1d array was expected. Please change the shape of y to (n_samples, ), for example using ravel().\n",
      "  y = column_or_1d(y, warn=True)\n"
     ]
    }
   ],
   "source": [
    "\n",
    "\n",
    "for i in range(len(list(models))):\n",
    "    model=list(models.values())[i]\n",
    "    model.fit(X_train,y_train)\n",
    "\n",
    "    #Make Predictions\n",
    "    y_pred=model.predict(X_test)\n",
    "\n",
    "    #this is a validation(test) score\n",
    "    mae, rmse, r2_square=evaluate_model(y_test,y_pred)\n",
    "\n",
    "    print(list(models.keys())[i])\n",
    "    model_list.append(list(models.keys())[i])\n",
    "\n",
    "    print('Model Training Performance')\n",
    "    print(\"RMSE:\",rmse)\n",
    "    print(\"MAE:\",mae)\n",
    "    print(\"R2 score\",r2_square*100)\n",
    "\n",
    "    r2_list.append(r2_square)\n",
    "    \n",
    "    print('='*35)\n",
    "    print('\\n')\n"
   ]
  },
  {
   "cell_type": "code",
   "execution_count": 38,
   "metadata": {},
   "outputs": [
    {
     "data": {
      "text/plain": [
       "[]"
      ]
     },
     "execution_count": 38,
     "metadata": {},
     "output_type": "execute_result"
    }
   ],
   "source": [
    "trained_model_list"
   ]
  },
  {
   "cell_type": "code",
   "execution_count": 39,
   "metadata": {},
   "outputs": [
    {
     "data": {
      "text/plain": [
       "['LinearRegression',\n",
       " 'Lasso',\n",
       " 'Ridge',\n",
       " 'Elasticnet',\n",
       " 'RandomForestRegressor',\n",
       " 'SVR',\n",
       " 'DecisionTreeRegressor']"
      ]
     },
     "execution_count": 39,
     "metadata": {},
     "output_type": "execute_result"
    }
   ],
   "source": [
    "model_list"
   ]
  },
  {
   "cell_type": "code",
   "execution_count": 40,
   "metadata": {},
   "outputs": [
    {
     "data": {
      "text/plain": [
       "[0.39141637820017705,\n",
       " 0.3914333792388447,\n",
       " 0.3916771086099259,\n",
       " 0.3983610427803391,\n",
       " 0.9028994602471306,\n",
       " -0.24512599375639677,\n",
       " 0.797917491880271]"
      ]
     },
     "execution_count": 40,
     "metadata": {},
     "output_type": "execute_result"
    }
   ],
   "source": [
    "r2_list"
   ]
  },
  {
   "cell_type": "code",
   "execution_count": null,
   "metadata": {},
   "outputs": [],
   "source": []
  }
 ],
 "metadata": {
  "kernelspec": {
   "display_name": "Python 3",
   "language": "python",
   "name": "python3"
  },
  "language_info": {
   "codemirror_mode": {
    "name": "ipython",
    "version": 3
   },
   "file_extension": ".py",
   "mimetype": "text/x-python",
   "name": "python",
   "nbconvert_exporter": "python",
   "pygments_lexer": "ipython3",
   "version": "3.8.19"
  }
 },
 "nbformat": 4,
 "nbformat_minor": 2
}
